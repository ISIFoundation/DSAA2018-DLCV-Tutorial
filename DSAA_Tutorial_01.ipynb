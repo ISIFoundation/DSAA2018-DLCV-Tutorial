{
 "cells": [
  {
   "cell_type": "markdown",
   "metadata": {},
   "source": [
    "# DEEP LEARNING FOR COMPUTER VISION: <br> A PRACTITIONER'S VIEWPOINT\n",
    "\n",
    "### André Panisson <br> Alan Perotti \n",
    "#### ISI Foundation\n",
    "---"
   ]
  },
  {
   "cell_type": "markdown",
   "metadata": {},
   "source": [
    "# Introduction"
   ]
  },
  {
   "cell_type": "markdown",
   "metadata": {},
   "source": [
    "DON'T EDIT THIS NOTEBOOK! COPY IT ON A FOLDER OF YOURS\n",
    "<br>\n",
    "Disclaimers, overview, etc.\n",
    "<br>\n",
    "Run the system requirements notebook"
   ]
  },
  {
   "cell_type": "code",
   "execution_count": 71,
   "metadata": {},
   "outputs": [],
   "source": [
    "import numpy as np"
   ]
  },
  {
   "cell_type": "markdown",
   "metadata": {},
   "source": [
    "# Computer Vision"
   ]
  },
  {
   "cell_type": "markdown",
   "metadata": {},
   "source": [
    "Vision is hard for machines.."
   ]
  },
  {
   "cell_type": "markdown",
   "metadata": {},
   "source": [
    "<img src=\"./figures/linea.png\" width=\"250\"/>\n",
    "<img src=\"./figures/bignum.png\" width=\"250\"/>"
   ]
  },
  {
   "cell_type": "markdown",
   "metadata": {},
   "source": [
    "Relevant XKCD (2014!)"
   ]
  },
  {
   "cell_type": "markdown",
   "metadata": {},
   "source": [
    "<img src=\"./figures/xkcd.png\" width=\"400\"/>"
   ]
  },
  {
   "cell_type": "markdown",
   "metadata": {},
   "source": [
    "A couple years later, a 50MB apk on Android, offline.."
   ]
  },
  {
   "cell_type": "markdown",
   "metadata": {},
   "source": [
    "<tr>\n",
    "    <td> <img src=\"./figures/bird.JPG\" style=\"width: 500px;\"/> </td>\n",
    "</tr>"
   ]
  },
  {
   "cell_type": "markdown",
   "metadata": {},
   "source": [
    "..and it all started with Alexnet! <3"
   ]
  },
  {
   "cell_type": "markdown",
   "metadata": {},
   "source": [
    "<tr>\n",
    "    <td> <img src=\"./figures/imagenet.png\" style=\"width: 500px;\"/> </td>\n",
    "</tr>"
   ]
  },
  {
   "cell_type": "markdown",
   "metadata": {},
   "source": [
    "So why is this hard again? Easy: you can't define a '2'"
   ]
  },
  {
   "cell_type": "markdown",
   "metadata": {},
   "source": [
    "<tr><td><img src=\"./figures/mnist.png\" style=\"width: 700px;\"/></td></tr>"
   ]
  },
  {
   "cell_type": "markdown",
   "metadata": {},
   "source": [
    "# Convolutional Neural Networks"
   ]
  },
  {
   "cell_type": "markdown",
   "metadata": {},
   "source": [
    "So how do machines see? Hierarchically!"
   ]
  },
  {
   "cell_type": "markdown",
   "metadata": {},
   "source": [
    "<tr><td><img src=\"./figures/hierarchical_features.png\" style=\"width: 700px;\"/></td></tr>"
   ]
  },
  {
   "cell_type": "markdown",
   "metadata": {},
   "source": [
    "Ok, but how?"
   ]
  },
  {
   "cell_type": "markdown",
   "metadata": {},
   "source": [
    "<tr>\n",
    "    <td> <img src=\"https://flickrcode.files.wordpress.com/2014/10/conv-net2.png\" alt=\"Drawing\" style=\"width: 800px;\"/> </td>\n",
    "</tr>"
   ]
  },
  {
   "cell_type": "markdown",
   "metadata": {},
   "source": [
    "Key ingredient: the convolution"
   ]
  },
  {
   "cell_type": "markdown",
   "metadata": {},
   "source": [
    "<img src=\"https://docs.microsoft.com/en-us/cognitive-toolkit/tutorial2/convlayer.png\" alt=\"Drawing\" style=\"width: 700px;\"/>"
   ]
  },
  {
   "cell_type": "markdown",
   "metadata": {},
   "source": [
    "Also used: maxpooling"
   ]
  },
  {
   "cell_type": "markdown",
   "metadata": {},
   "source": [
    "<img src=\"https://qph.fs.quoracdn.net/main-qimg-8afedfb2f82f279781bfefa269bc6a90.webp\" alt=\"Drawing\" style=\"width: 500px;\"/>\n",
    "<br><br><br>"
   ]
  },
  {
   "cell_type": "markdown",
   "metadata": {},
   "source": [
    "<img src=\"https://qph.fs.quoracdn.net/main-qimg-3a8a3a78734fed3301ed3546634b871a.webp\" alt=\"Drawing\" style=\"width: 500px;\"/>  "
   ]
  },
  {
   "cell_type": "markdown",
   "metadata": {},
   "source": [
    "# Keras"
   ]
  },
  {
   "cell_type": "markdown",
   "metadata": {},
   "source": [
    "## Introduction to Keras\n",
    "\n",
    "Keras is a minimalist, highly modular neural network library written in Python and built on top of Tensorflow and Theano. It is easier to use than pure Tensorflow, as it includes several functionalities:\n",
    "\n",
    "- Standard APIs for sequential and functional models with feedforward, convolutional, and recurrent layers\n",
    "- Several optimization algorithms and advanced activation functions\n",
    "- Monitoring/callback support\n",
    "- Easily extensible\n",
    "\n",
    "Simple models, such as feedforward networks, are straightforward to implement. The code below is the entire definition of a multilayer perceptron classifier for the MNIST dataset:"
   ]
  },
  {
   "cell_type": "code",
   "execution_count": 72,
   "metadata": {},
   "outputs": [
    {
     "name": "stdout",
     "output_type": "stream",
     "text": [
      "_________________________________________________________________\n",
      "Layer (type)                 Output Shape              Param #   \n",
      "=================================================================\n",
      "input_2 (InputLayer)         (None, 784)               0         \n",
      "_________________________________________________________________\n",
      "dense_11 (Dense)             (None, 128)               100480    \n",
      "_________________________________________________________________\n",
      "dense_12 (Dense)             (None, 10)                1290      \n",
      "=================================================================\n",
      "Total params: 101,770\n",
      "Trainable params: 101,770\n",
      "Non-trainable params: 0\n",
      "_________________________________________________________________\n"
     ]
    },
    {
     "data": {
      "text/plain": [
       "<keras.engine.training.Model at 0x7fd3239e9358>"
      ]
     },
     "execution_count": 72,
     "metadata": {},
     "output_type": "execute_result"
    }
   ],
   "source": [
    "from keras.models import Model\n",
    "from keras.layers import Input, Dense\n",
    "\n",
    "input = Input(shape=(784,))\n",
    "hidden = Dense(128, activation='relu')(input) #input_shape=(784,)\n",
    "pred = Dense(10, activation='softmax')(hidden)\n",
    "\n",
    "model0 = Model(inputs=input, outputs=pred)\n",
    "\n",
    "model0.summary()\n",
    "model0"
   ]
  },
  {
   "cell_type": "code",
   "execution_count": 73,
   "metadata": {},
   "outputs": [],
   "source": [
    "#Q: why these numbers?"
   ]
  },
  {
   "cell_type": "markdown",
   "metadata": {},
   "source": [
    "If you prefer to define a squence of layers, you can use the Sequential model definition:"
   ]
  },
  {
   "cell_type": "code",
   "execution_count": 74,
   "metadata": {},
   "outputs": [
    {
     "name": "stdout",
     "output_type": "stream",
     "text": [
      "_________________________________________________________________\n",
      "Layer (type)                 Output Shape              Param #   \n",
      "=================================================================\n",
      "dense_13 (Dense)             (None, 128)               100480    \n",
      "_________________________________________________________________\n",
      "dense_14 (Dense)             (None, 10)                1290      \n",
      "=================================================================\n",
      "Total params: 101,770\n",
      "Trainable params: 101,770\n",
      "Non-trainable params: 0\n",
      "_________________________________________________________________\n"
     ]
    }
   ],
   "source": [
    "from keras.models import Sequential\n",
    "from keras.layers import Dense\n",
    "\n",
    "model1 = Sequential()\n",
    "model1.add(Dense(128, input_shape=(784,), activation='relu'))\n",
    "model1.add(Dense(10, activation='softmax'))\n",
    "\n",
    "model1.summary()"
   ]
  },
  {
   "cell_type": "code",
   "execution_count": 75,
   "metadata": {},
   "outputs": [],
   "source": [
    "from keras.datasets import mnist\n",
    "from keras.utils import to_categorical\n",
    "\n",
    "(X_train, Y_train), (X_test, Y_test) = mnist.load_data()\n",
    "X_train = X_train.astype('float32')\n",
    "X_test = X_test.astype('float32')\n",
    "X_train /= 255\n",
    "X_test /= 255\n",
    "\n",
    "n_input = 784 # MNIST data input (img shape: 28*28)\n",
    "n_classes = 10 # MNIST total classes (0-9 digits)\n",
    "\n",
    "Y_train = to_categorical(Y_train, n_classes)\n",
    "Y_test = to_categorical(Y_test, n_classes)\n",
    "\n",
    "X_train = X_train.reshape(-1, 28, 28, 1)\n",
    "X_test = X_test.reshape(-1, 28, 28, 1)"
   ]
  },
  {
   "cell_type": "code",
   "execution_count": 76,
   "metadata": {},
   "outputs": [
    {
     "name": "stdout",
     "output_type": "stream",
     "text": [
      "Train on 60000 samples, validate on 10000 samples\n",
      "Epoch 1/10\n",
      "60000/60000 [==============================] - 3s 53us/step - loss: 0.3424 - acc: 0.9052 - val_loss: 0.1899 - val_acc: 0.9461\n",
      "Epoch 2/10\n",
      "60000/60000 [==============================] - 3s 47us/step - loss: 0.1571 - acc: 0.9549 - val_loss: 0.1329 - val_acc: 0.9625\n",
      "Epoch 3/10\n",
      "60000/60000 [==============================] - 3s 47us/step - loss: 0.1132 - acc: 0.9672 - val_loss: 0.1092 - val_acc: 0.9663\n",
      "Epoch 4/10\n",
      "60000/60000 [==============================] - 3s 47us/step - loss: 0.0867 - acc: 0.9749 - val_loss: 0.0923 - val_acc: 0.9725\n",
      "Epoch 5/10\n",
      "60000/60000 [==============================] - 3s 47us/step - loss: 0.0696 - acc: 0.9796 - val_loss: 0.0847 - val_acc: 0.9747\n",
      "Epoch 6/10\n",
      "60000/60000 [==============================] - 3s 47us/step - loss: 0.0568 - acc: 0.9836 - val_loss: 0.0845 - val_acc: 0.9730\n",
      "Epoch 7/10\n",
      "60000/60000 [==============================] - 3s 47us/step - loss: 0.0469 - acc: 0.9863 - val_loss: 0.0744 - val_acc: 0.9773\n",
      "Epoch 8/10\n",
      "60000/60000 [==============================] - 3s 47us/step - loss: 0.0386 - acc: 0.9890 - val_loss: 0.0736 - val_acc: 0.9780\n",
      "Epoch 9/10\n",
      "60000/60000 [==============================] - 3s 46us/step - loss: 0.0319 - acc: 0.9914 - val_loss: 0.0711 - val_acc: 0.9780\n",
      "Epoch 10/10\n",
      "60000/60000 [==============================] - 3s 47us/step - loss: 0.0276 - acc: 0.9928 - val_loss: 0.0710 - val_acc: 0.9788\n"
     ]
    }
   ],
   "source": [
    "model1.compile(loss='categorical_crossentropy', optimizer='adam', metrics=['accuracy'])\n",
    "\n",
    "hist1 = model1.fit(X_train.reshape(-1, 784), Y_train,\n",
    "          validation_data=(X_test.reshape(-1, 784), Y_test),\n",
    "          epochs=10, batch_size=100, verbose=1)\n",
    "# Final evaluation of the model\n",
    "scores = model1.evaluate(X_test.reshape(-1, 784), Y_test, verbose=0)"
   ]
  },
  {
   "cell_type": "code",
   "execution_count": 77,
   "metadata": {},
   "outputs": [
    {
     "data": {
      "image/png": "[encoded data removed]",
      "text/plain": [
       "<Figure size 432x288 with 1 Axes>"
      ]
     },
     "metadata": {},
     "output_type": "display_data"
    },
    {
     "data": {
      "image/png": "[encoded data removed]",
      "text/plain": [
       "<Figure size 432x288 with 1 Axes>"
      ]
     },
     "metadata": {},
     "output_type": "display_data"
    }
   ],
   "source": [
    "import matplotlib.pyplot as plt\n",
    "%matplotlib inline\n",
    "\n",
    "def plot_curves(hist):\n",
    "    plt.figure()\n",
    "    plt.xlabel('Epochs')\n",
    "    plt.ylabel('Loss')\n",
    "    plt.plot(hist.history['loss'])\n",
    "    plt.plot(hist.history['val_loss'])\n",
    "    plt.legend(['Training', 'Validation'])\n",
    "\n",
    "    plt.figure()\n",
    "    plt.xlabel('Epochs')\n",
    "    plt.ylabel('Accuracy')\n",
    "    plt.plot(hist.history['acc'])\n",
    "    plt.plot(hist.history['val_acc'])\n",
    "    plt.legend(['Training', 'Validation'], loc='lower right')\n",
    "    \n",
    "plot_curves(hist1)"
   ]
  },
  {
   "cell_type": "code",
   "execution_count": 78,
   "metadata": {},
   "outputs": [
    {
     "name": "stdout",
     "output_type": "stream",
     "text": [
      "['__builtins__', '__cached__', '__doc__', '__file__', '__loader__', '__name__', '__package__', '__path__', '__spec__', 'absolute_import', 'boston_housing', 'cifar', 'cifar10', 'cifar100', 'fashion_mnist', 'imdb', 'mnist', 'reuters']\n"
     ]
    }
   ],
   "source": [
    "import keras.datasets\n",
    "print(dir(keras.datasets))"
   ]
  },
  {
   "cell_type": "code",
   "execution_count": 79,
   "metadata": {},
   "outputs": [
    {
     "name": "stdout",
     "output_type": "stream",
     "text": [
      "channels_last\n"
     ]
    }
   ],
   "source": [
    "print(keras.backend.image_data_format())\n",
    "#'channels_last' -> (batch_size, rows, cols, channels)\n",
    "#'channels_first' -> (batch_size, channels, rows, cols)"
   ]
  },
  {
   "cell_type": "code",
   "execution_count": 80,
   "metadata": {},
   "outputs": [],
   "source": [
    "from keras.datasets import cifar10\n",
    "from keras.utils import to_categorical\n",
    "\n",
    "(X_train, Y_train), (X_test, Y_test) = cifar10.load_data()"
   ]
  },
  {
   "cell_type": "code",
   "execution_count": 81,
   "metadata": {},
   "outputs": [
    {
     "data": {
      "text/plain": [
       "(50000, 32, 32, 3)"
      ]
     },
     "execution_count": 81,
     "metadata": {},
     "output_type": "execute_result"
    }
   ],
   "source": [
    "X_train.shape"
   ]
  },
  {
   "cell_type": "code",
   "execution_count": 82,
   "metadata": {},
   "outputs": [],
   "source": [
    "from keras.datasets import cifar10\n",
    "from keras.utils import to_categorical\n",
    "\n",
    "(X_train, Y_train), (X_test, Y_test) = cifar10.load_data()\n",
    "\n",
    "X_train = X_train.astype('float32')\n",
    "X_test = X_test.astype('float32')\n",
    "X_train /= 255\n",
    "X_test /= 255\n",
    "\n",
    "n_input = 32*32*3 # CIFAR data input (img shape: 32*32 * 3 channels)\n",
    "n_classes = 10 # CIFAR total classes\n",
    "\n",
    "Y_train = to_categorical(Y_train, n_classes)\n",
    "Y_test = to_categorical(Y_test, n_classes)"
   ]
  },
  {
   "cell_type": "code",
   "execution_count": 83,
   "metadata": {},
   "outputs": [
    {
     "name": "stdout",
     "output_type": "stream",
     "text": [
      "(50000, 32, 32, 3) (50000, 10)\n"
     ]
    }
   ],
   "source": [
    "print(X_train.shape, Y_train.shape)"
   ]
  },
  {
   "cell_type": "code",
   "execution_count": 84,
   "metadata": {},
   "outputs": [
    {
     "name": "stdout",
     "output_type": "stream",
     "text": [
      "[0. 0. 0. 0. 0. 0. 1. 0. 0. 0.] [0. 0. 0. 1. 0. 0. 0. 0. 0. 0.]\n"
     ]
    }
   ],
   "source": [
    "print(Y_train[0],Y_test[0])"
   ]
  },
  {
   "cell_type": "code",
   "execution_count": 85,
   "metadata": {},
   "outputs": [
    {
     "data": {
      "image/png": "[encoded data removed]",
      "text/plain": [
       "<Figure size 216x216 with 1 Axes>"
      ]
     },
     "metadata": {},
     "output_type": "display_data"
    }
   ],
   "source": [
    "import matplotlib.pyplot as plt\n",
    "plt.figure(figsize=(3,3))\n",
    "plt.imshow(X_train[0])\n",
    "plt.show()"
   ]
  },
  {
   "cell_type": "markdown",
   "metadata": {},
   "source": [
    "#### Convolution2D\n",
    "\n",
    "```python\n",
    "from keras.layers.convolutional import Conv2D\n",
    "\n",
    "Conv2D(filters, kernel_size, strides=(1, 1), padding='valid', \n",
    "       data_format=None, dilation_rate=(1, 1), activation=None, \n",
    "       use_bias=True, kernel_initializer='glorot_uniform', \n",
    "       bias_initializer='zeros', kernel_regularizer=None, \n",
    "       bias_regularizer=None, activity_regularizer=None, \n",
    "       kernel_constraint=None, bias_constraint=None)\n",
    "```\n",
    "\n",
    "#### Arguments:\n",
    "\n",
    "<ul>\n",
    "<li><strong>filters</strong>: Integer, the dimensionality of the output space\n",
    "    (i.e. the number output of filters in the convolution).</li>\n",
    "<li><strong>kernel_size</strong>: An integer or tuple/list of 2 integers, specifying the\n",
    "    width and height of the 2D convolution window.\n",
    "    Can be a single integer to specify the same value for\n",
    "    all spatial dimensions.</li>\n",
    "<li><strong>strides</strong>: An integer or tuple/list of 2 integers,\n",
    "    specifying the strides of the convolution along the width and height.\n",
    "    Can be a single integer to specify the same value for\n",
    "    all spatial dimensions.\n",
    "    Specifying any stride value != 1 is incompatible with specifying\n",
    "    any <code>dilation_rate</code> value != 1.</li>\n",
    "<li><strong>padding</strong>: one of <code>\"valid\"</code> or <code>\"same\"</code> (case-insensitive).</li>\n",
    "<li><strong>data_format</strong>: A string,\n",
    "    one of <code>channels_last</code> (default) or <code>channels_first</code>.\n",
    "    The ordering of the dimensions in the inputs.\n",
    "    <code>channels_last</code> corresponds to inputs with shape\n",
    "    <code>(batch, height, width, channels)</code> while <code>channels_first</code>\n",
    "    corresponds to inputs with shape\n",
    "    <code>(batch, channels, height, width)</code>.\n",
    "    It defaults to the <code>image_data_format</code> value found in your\n",
    "    Keras config file at <code>~/.keras/keras.json</code>.\n",
    "    If you never set it, then it will be \"channels_last\".</li>\n",
    "<li><strong>dilation_rate</strong>: an integer or tuple/list of 2 integers, specifying\n",
    "    the dilation rate to use for dilated convolution.\n",
    "    Can be a single integer to specify the same value for\n",
    "    all spatial dimensions.\n",
    "    Currently, specifying any <code>dilation_rate</code> value != 1 is\n",
    "    incompatible with specifying any stride value != 1.</li>\n",
    "<li><strong>activation</strong>: Activation function to use\n",
    "    (see <a href=\"https://keras.io/activations/\">activations</a>).\n",
    "    If you don't specify anything, no activation is applied\n",
    "    (ie. \"linear\" activation: <code>a(x) = x</code>).</li>\n",
    "<li><strong>use_bias</strong>: Boolean, whether the layer uses a bias vector.</li>\n",
    "<li><strong>kernel_initializer</strong>: Initializer for the <code>kernel</code> weights matrix\n",
    "    (see <a href=\"https://keras.io/initializers/\">initializers</a>).</li>\n",
    "<li><strong>bias_initializer</strong>: Initializer for the bias vector\n",
    "    (see <a href=\"https://keras.io/initializers/\">initializers</a>).</li>\n",
    "<li><strong>kernel_regularizer</strong>: Regularizer function applied to\n",
    "    the <code>kernel</code> weights matrix\n",
    "    (see <a href=\"https://keras.io/regularizers/\">regularizer</a>).</li>\n",
    "<li><strong>bias_regularizer</strong>: Regularizer function applied to the bias vector\n",
    "    (see <a href=\"https://keras.io/regularizers/\">regularizer</a>).</li>\n",
    "<li><strong>activity_regularizer</strong>: Regularizer function applied to\n",
    "    the output of the layer (its \"activation\").\n",
    "    (see <a href=\"https://keras.io/regularizers/\">regularizer</a>).</li>\n",
    "<li><strong>kernel_constraint</strong>: Constraint function applied to the kernel matrix\n",
    "    (see <a href=\"https://keras.io/constraints/\">constraints</a>).</li>\n",
    "<li><strong>bias_constraint</strong>: Constraint function applied to the bias vector\n",
    "    (see <a href=\"https://keras.io/constraints/\">constraints</a>).</li>\n",
    "</ul>"
   ]
  },
  {
   "cell_type": "markdown",
   "metadata": {},
   "source": [
    "<img src=\"https://docs.microsoft.com/en-us/cognitive-toolkit/tutorial2/convlayer.png\" alt=\"Drawing\" style=\"width: 700px;\"/>"
   ]
  },
  {
   "cell_type": "code",
   "execution_count": 86,
   "metadata": {},
   "outputs": [],
   "source": [
    "#Q: where does the feature map come from?"
   ]
  },
  {
   "cell_type": "markdown",
   "metadata": {},
   "source": [
    "# Building a ConvNet"
   ]
  },
  {
   "cell_type": "markdown",
   "metadata": {},
   "source": [
    "Let's build a Convolutional Neural Network with the following architecture:\n",
    "\n",
    "- input: images with (32x32x3) pixels\n",
    "- conv layer with 16 5x5 filters, padding=same and ReLU activation\n",
    "- 2x2 max pool layer\n",
    "- conv layer with 20 5x5 filters, padding=same and ReLU activation\n",
    "- 2x2 max pool layer\n",
    "- conv layer with 20 5x5 filters, padding=same and ReLU activation\n",
    "- 2x2 max pool layer\n",
    "- fully connected layer with 10 neurons (10 classes) and softmax activation\n",
    "\n",
    "We will then train this model with the Cifar10 dataset (`keras.datasets.cifar10`), minimizing a categorical crossentropy loss with the Adam optimizer."
   ]
  },
  {
   "cell_type": "code",
   "execution_count": 87,
   "metadata": {},
   "outputs": [],
   "source": [
    "from keras.models import Sequential\n",
    "from keras.layers import Dense, Dropout, Flatten, Convolution2D, MaxPooling2D"
   ]
  },
  {
   "cell_type": "code",
   "execution_count": 88,
   "metadata": {},
   "outputs": [
    {
     "name": "stdout",
     "output_type": "stream",
     "text": [
      "_________________________________________________________________\n",
      "Layer (type)                 Output Shape              Param #   \n",
      "=================================================================\n",
      "conv2d_13 (Conv2D)           (None, 32, 32, 16)        1216      \n",
      "_________________________________________________________________\n",
      "max_pooling2d_13 (MaxPooling (None, 16, 16, 16)        0         \n",
      "_________________________________________________________________\n",
      "conv2d_14 (Conv2D)           (None, 16, 16, 20)        8020      \n",
      "_________________________________________________________________\n",
      "max_pooling2d_14 (MaxPooling (None, 8, 8, 20)          0         \n",
      "_________________________________________________________________\n",
      "conv2d_15 (Conv2D)           (None, 8, 8, 20)          10020     \n",
      "_________________________________________________________________\n",
      "max_pooling2d_15 (MaxPooling (None, 4, 4, 20)          0         \n",
      "_________________________________________________________________\n",
      "flatten_5 (Flatten)          (None, 320)               0         \n",
      "_________________________________________________________________\n",
      "dense_15 (Dense)             (None, 10)                3210      \n",
      "=================================================================\n",
      "Total params: 22,466\n",
      "Trainable params: 22,466\n",
      "Non-trainable params: 0\n",
      "_________________________________________________________________\n"
     ]
    }
   ],
   "source": [
    "def conv_model():\n",
    "    # create model\n",
    "    model = Sequential()\n",
    "    model.add(Convolution2D(16, (5, 5), padding='same', input_shape=(32, 32, 3), activation='relu'))\n",
    "    model.add(MaxPooling2D(pool_size=(2, 2)))\n",
    "    model.add(Convolution2D(20, (5, 5), padding='same', activation='relu'))\n",
    "    model.add(MaxPooling2D(pool_size=(2, 2)))\n",
    "    model.add(Convolution2D(20, (5, 5), padding='same', activation='relu'))\n",
    "    model.add(MaxPooling2D(pool_size=(2, 2)))\n",
    "    model.add(Flatten())\n",
    "    model.add(Dense(n_classes, activation='softmax'))\n",
    "    # Compile model\n",
    "    model.compile(loss='categorical_crossentropy', optimizer='adam', metrics=['accuracy'])\n",
    "    return model\n",
    "\n",
    "model = conv_model()\n",
    "model.summary()"
   ]
  },
  {
   "cell_type": "markdown",
   "metadata": {},
   "source": [
    "Reference for Keras optimization algorithms:   \n",
    "https://keras.io/optimizers/"
   ]
  },
  {
   "cell_type": "code",
   "execution_count": 89,
   "metadata": {},
   "outputs": [],
   "source": [
    "#Q: again, why these numbers?"
   ]
  },
  {
   "cell_type": "markdown",
   "metadata": {},
   "source": [
    "# Training"
   ]
  },
  {
   "cell_type": "code",
   "execution_count": 90,
   "metadata": {},
   "outputs": [
    {
     "name": "stdout",
     "output_type": "stream",
     "text": [
      "Train on 1000 samples, validate on 10000 samples\n",
      "Epoch 1/20\n",
      "1000/1000 [==============================] - 1s 1ms/step - loss: 2.2998 - acc: 0.0920 - val_loss: 2.2888 - val_acc: 0.1175\n",
      "Epoch 2/20\n",
      "1000/1000 [==============================] - 1s 756us/step - loss: 2.2618 - acc: 0.1440 - val_loss: 2.2428 - val_acc: 0.1823\n",
      "Epoch 3/20\n",
      "1000/1000 [==============================] - 1s 762us/step - loss: 2.1821 - acc: 0.2140 - val_loss: 2.1833 - val_acc: 0.1869\n",
      "Epoch 4/20\n",
      "1000/1000 [==============================] - 1s 760us/step - loss: 2.0458 - acc: 0.2900 - val_loss: 2.0310 - val_acc: 0.2678\n",
      "Epoch 5/20\n",
      "1000/1000 [==============================] - 1s 764us/step - loss: 1.9109 - acc: 0.2890 - val_loss: 1.9300 - val_acc: 0.3025\n",
      "Epoch 6/20\n",
      "1000/1000 [==============================] - 1s 765us/step - loss: 1.8126 - acc: 0.3370 - val_loss: 1.8409 - val_acc: 0.3267\n",
      "Epoch 7/20\n",
      "1000/1000 [==============================] - 1s 758us/step - loss: 1.7222 - acc: 0.3660 - val_loss: 1.7891 - val_acc: 0.3536\n",
      "Epoch 8/20\n",
      "1000/1000 [==============================] - 1s 763us/step - loss: 1.6522 - acc: 0.4300 - val_loss: 1.8418 - val_acc: 0.3394\n",
      "Epoch 9/20\n",
      "1000/1000 [==============================] - 1s 761us/step - loss: 1.6457 - acc: 0.4040 - val_loss: 1.8149 - val_acc: 0.3522\n",
      "Epoch 10/20\n",
      "1000/1000 [==============================] - 1s 760us/step - loss: 1.6164 - acc: 0.4270 - val_loss: 1.7347 - val_acc: 0.3838\n",
      "Epoch 11/20\n",
      "1000/1000 [==============================] - 1s 761us/step - loss: 1.5324 - acc: 0.4740 - val_loss: 1.7169 - val_acc: 0.3874\n",
      "Epoch 12/20\n",
      "1000/1000 [==============================] - 1s 765us/step - loss: 1.4859 - acc: 0.4800 - val_loss: 1.7603 - val_acc: 0.3788\n",
      "Epoch 13/20\n",
      "1000/1000 [==============================] - 1s 760us/step - loss: 1.4953 - acc: 0.4750 - val_loss: 1.7203 - val_acc: 0.3880\n",
      "Epoch 14/20\n",
      "1000/1000 [==============================] - 1s 760us/step - loss: 1.4122 - acc: 0.5070 - val_loss: 1.7001 - val_acc: 0.3900\n",
      "Epoch 15/20\n",
      "1000/1000 [==============================] - 1s 764us/step - loss: 1.3899 - acc: 0.5270 - val_loss: 1.7700 - val_acc: 0.3738\n",
      "Epoch 16/20\n",
      "1000/1000 [==============================] - 1s 760us/step - loss: 1.4254 - acc: 0.5010 - val_loss: 1.7426 - val_acc: 0.3895\n",
      "Epoch 17/20\n",
      "1000/1000 [==============================] - 1s 764us/step - loss: 1.3381 - acc: 0.5510 - val_loss: 1.7007 - val_acc: 0.3917\n",
      "Epoch 18/20\n",
      "1000/1000 [==============================] - 1s 762us/step - loss: 1.3029 - acc: 0.5470 - val_loss: 1.7136 - val_acc: 0.3893\n",
      "Epoch 19/20\n",
      "1000/1000 [==============================] - 1s 767us/step - loss: 1.2897 - acc: 0.5440 - val_loss: 1.7017 - val_acc: 0.3963\n",
      "Epoch 20/20\n",
      "1000/1000 [==============================] - 1s 767us/step - loss: 1.2182 - acc: 0.5790 - val_loss: 1.6992 - val_acc: 0.3934\n",
      "Baseline Error: 60.66%\n"
     ]
    }
   ],
   "source": [
    "# Fit the model\n",
    "hist = model.fit(X_train[:1000], Y_train[:1000],\n",
    "          validation_data=(X_test, Y_test),\n",
    "          epochs=20, batch_size=100, verbose=1)\n",
    "# Final evaluation of the model\n",
    "scores = model.evaluate(X_test, Y_test, verbose=0)\n",
    "print(\"Baseline Error: %.2f%%\" % (100-scores[1]*100))"
   ]
  },
  {
   "cell_type": "markdown",
   "metadata": {},
   "source": [
    "<br><br><br>\n",
    "<tr>\n",
    "    <td> <img src=\"./figures/xkcd2.jpg\" style=\"width: 300px;\"/> </td>\n",
    "</tr>"
   ]
  },
  {
   "cell_type": "code",
   "execution_count": 91,
   "metadata": {},
   "outputs": [
    {
     "data": {
      "text/plain": [
       "[<matplotlib.lines.Line2D at 0x7fd3081fcc18>]"
      ]
     },
     "execution_count": 91,
     "metadata": {},
     "output_type": "execute_result"
    },
    {
     "data": {
      "image/png": "[encoded data removed]",
      "text/plain": [
       "<Figure size 432x288 with 1 Axes>"
      ]
     },
     "metadata": {},
     "output_type": "display_data"
    }
   ],
   "source": [
    "plt.plot(hist.history['val_acc'])"
   ]
  },
  {
   "cell_type": "code",
   "execution_count": 92,
   "metadata": {},
   "outputs": [
    {
     "data": {
      "image/png": "[encoded data removed]",
      "text/plain": [
       "<Figure size 432x288 with 1 Axes>"
      ]
     },
     "metadata": {},
     "output_type": "display_data"
    },
    {
     "data": {
      "image/png": "[encoded data removed]",
      "text/plain": [
       "<Figure size 432x288 with 1 Axes>"
      ]
     },
     "metadata": {},
     "output_type": "display_data"
    }
   ],
   "source": [
    "plot_curves(hist)"
   ]
  },
  {
   "cell_type": "code",
   "execution_count": 93,
   "metadata": {},
   "outputs": [],
   "source": [
    "(X_train_orig, Y_train_orig), (X_test_orig, Y_test_orig) = cifar10.load_data()\n",
    "predicted = model.predict(X_test).argmax(-1)"
   ]
  },
  {
   "cell_type": "code",
   "execution_count": 94,
   "metadata": {},
   "outputs": [],
   "source": [
    "cifar10_labels = ['airplane','automobile','bird','cat','deer','dog','frog','horse','ship','truck']"
   ]
  },
  {
   "cell_type": "code",
   "execution_count": 95,
   "metadata": {},
   "outputs": [
    {
     "name": "stdout",
     "output_type": "stream",
     "text": [
      "6066/10000 misclassified examples\n",
      "\n"
     ]
    },
    {
     "data": {
      "image/png": "[encoded data removed]",
      "text/plain": [
       "<Figure size 576x288 with 10 Axes>"
      ]
     },
     "metadata": {},
     "output_type": "display_data"
    }
   ],
   "source": [
    "misclassified = [i for i,(p,l) in enumerate(zip(predicted,Y_test_orig)) if not p==l]\n",
    "print(len(misclassified),'/10000 misclassified examples\\n',sep=\"\")\n",
    "\n",
    "plt.rc(\"image\", cmap=\"binary\")\n",
    "plt.figure(figsize=(8,4))\n",
    "for i in range(10):\n",
    "    plt.subplot(2,5,i+1)\n",
    "    index = np.random.choice(misclassified)\n",
    "    plt.imshow(X_test_orig[index])\n",
    "    plt.title(cifar10_labels[predicted[index]])\n",
    "    plt.xticks(())\n",
    "    plt.yticks(())\n",
    "plt.tight_layout()"
   ]
  },
  {
   "cell_type": "markdown",
   "metadata": {},
   "source": [
    "### (nice checkout list)\n",
    "https://blog.slavv.com/37-reasons-why-your-neural-network-is-not-working-4020854bd607"
   ]
  },
  {
   "cell_type": "code",
   "execution_count": null,
   "metadata": {},
   "outputs": [],
   "source": []
  }
 ],
 "metadata": {
  "kernelspec": {
   "display_name": "Python 3",
   "language": "python",
   "name": "python3"
  },
  "language_info": {
   "codemirror_mode": {
    "name": "ipython",
    "version": 3
   },
   "file_extension": ".py",
   "mimetype": "text/x-python",
   "name": "python",
   "nbconvert_exporter": "python",
   "pygments_lexer": "ipython3",
   "version": "3.6.5"
  }
 },
 "nbformat": 4,
 "nbformat_minor": 2
}
